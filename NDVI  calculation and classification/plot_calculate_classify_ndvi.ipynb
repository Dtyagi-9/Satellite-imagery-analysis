{
 "cells": [
  {
   "cell_type": "code",
   "execution_count": 1,
   "metadata": {},
   "outputs": [],
   "source": [
    "%matplotlib inline"
   ]
  },
  {
   "cell_type": "code",
   "execution_count": 2,
   "metadata": {},
   "outputs": [
    {
     "ename": "ModuleNotFoundError",
     "evalue": "No module named 'earthpy'",
     "output_type": "error",
     "traceback": [
      "\u001b[0;31m---------------------------------------------------------------------------\u001b[0m",
      "\u001b[0;31mModuleNotFoundError\u001b[0m                       Traceback (most recent call last)",
      "\u001b[0;32m<ipython-input-2-7663f9cd22ec>\u001b[0m in \u001b[0;36m<module>\u001b[0;34m\u001b[0m\n\u001b[1;32m      4\u001b[0m \u001b[0;32mimport\u001b[0m \u001b[0mmatplotlib\u001b[0m\u001b[0;34m.\u001b[0m\u001b[0mpyplot\u001b[0m \u001b[0;32mas\u001b[0m \u001b[0mplt\u001b[0m\u001b[0;34m\u001b[0m\u001b[0;34m\u001b[0m\u001b[0m\n\u001b[1;32m      5\u001b[0m \u001b[0;32mfrom\u001b[0m \u001b[0mmatplotlib\u001b[0m\u001b[0;34m.\u001b[0m\u001b[0mcolors\u001b[0m \u001b[0;32mimport\u001b[0m \u001b[0mListedColormap\u001b[0m\u001b[0;34m\u001b[0m\u001b[0;34m\u001b[0m\u001b[0m\n\u001b[0;32m----> 6\u001b[0;31m \u001b[0;32mimport\u001b[0m \u001b[0mearthpy\u001b[0m \u001b[0;32mas\u001b[0m \u001b[0met\u001b[0m\u001b[0;34m\u001b[0m\u001b[0;34m\u001b[0m\u001b[0m\n\u001b[0m\u001b[1;32m      7\u001b[0m \u001b[0;32mimport\u001b[0m \u001b[0mearthpy\u001b[0m\u001b[0;34m.\u001b[0m\u001b[0mspatial\u001b[0m \u001b[0;32mas\u001b[0m \u001b[0mes\u001b[0m\u001b[0;34m\u001b[0m\u001b[0;34m\u001b[0m\u001b[0m\n\u001b[1;32m      8\u001b[0m \u001b[0;32mimport\u001b[0m \u001b[0mearthpy\u001b[0m\u001b[0;34m.\u001b[0m\u001b[0mplot\u001b[0m \u001b[0;32mas\u001b[0m \u001b[0mep\u001b[0m\u001b[0;34m\u001b[0m\u001b[0;34m\u001b[0m\u001b[0m\n",
      "\u001b[0;31mModuleNotFoundError\u001b[0m: No module named 'earthpy'"
     ]
    }
   ],
   "source": [
    "import os\n",
    "from glob import glob\n",
    "import numpy as np\n",
    "import matplotlib.pyplot as plt\n",
    "from matplotlib.colors import ListedColormap\n",
    "import earthpy as et\n",
    "import earthpy.spatial as es\n",
    "import earthpy.plot as ep\n",
    "\n",
    "# Get data and set your home working directory\n",
    "data = et.data.get_data(\"vignette-landsat\")"
   ]
  },
  {
   "cell_type": "markdown",
   "metadata": {},
   "source": [
    "Import Example Data\n",
    "-------------------\n",
    "\n",
    "To get started, make sure your directory is set. Then, create a stack from all of\n",
    "the Landsat .tif files (one per band). The nodata value for Landsat 8 is\n",
    "``-9999`` so you can use the ``nodata=`` parameter when you call the\n",
    "``stack()`` function.\n",
    "\n"
   ]
  },
  {
   "cell_type": "code",
   "execution_count": null,
   "metadata": {},
   "outputs": [],
   "source": [
    "os.chdir(os.path.join(et.io.HOME, \"earth-analytics\"))\n",
    "\n",
    "# Stack the Landsat 8 bands\n",
    "# This creates a numpy array with each \"layer\" representing a single band\n",
    "landsat_path = glob(\n",
    "    \"data/vignette-landsat/LC08_L1TP_034032_20160621_20170221_01_T1_sr_band*_crop.tif\"\n",
    ")\n",
    "landsat_path.sort()\n",
    "arr_st, meta = es.stack(landsat_path, nodata=-9999)"
   ]
  },
  {
   "cell_type": "markdown",
   "metadata": {},
   "source": [
    "Calculate Normalized Difference Vegetation Index (NDVI)\n",
    "-------------------------------------------------------\n",
    "\n",
    "You can calculate NDVI for your dataset using the\n",
    "``normalized_diff`` function from the ``earthpy.spatial`` module.\n",
    "Math will be calculated (b1-b2) / (b1 + b2).\n",
    "\n"
   ]
  },
  {
   "cell_type": "code",
   "execution_count": null,
   "metadata": {},
   "outputs": [],
   "source": [
    "# Landsat 8 red band is band 4 at [3]\n",
    "# Landsat 8 near-infrared band is band 5 at [4]\n",
    "ndvi = es.normalized_diff(arr_st[4], arr_st[3])"
   ]
  },
  {
   "cell_type": "markdown",
   "metadata": {},
   "source": [
    "Plot NDVI With Colorbar Legend of Continuous Values\n",
    "----------------------------------------------------\n",
    "\n",
    "You can plot NDVI with a colorbar legend of continuous values using the\n",
    "``plot_bands`` function from the ``earthpy.plot`` module.\n",
    "\n"
   ]
  },
  {
   "cell_type": "code",
   "execution_count": null,
   "metadata": {},
   "outputs": [],
   "source": [
    "titles = [\"Landsat 8 - Normalized Difference Vegetation Index (NDVI)\"]\n",
    "\n",
    "# Turn off bytescale scaling due to float values for NDVI\n",
    "ep.plot_bands(\n",
    "    ndvi, cmap=\"RdYlGn\", cols=1, title=titles, scale=False, vmin=-1, vmax=1\n",
    ")"
   ]
  },
  {
   "cell_type": "markdown",
   "metadata": {},
   "source": [
    "Classify NDVI\n",
    "-------------\n",
    "\n",
    "Next, you can categorize (or classify) the NDVI results into useful classes.\n",
    "Values under 0 will be classified together as no vegetation. Additional classes\n",
    "will be created for bare area and low, moderate, and high vegetation areas.\n",
    "\n"
   ]
  },
  {
   "cell_type": "code",
   "execution_count": null,
   "metadata": {},
   "outputs": [],
   "source": [
    "# Create classes and apply to NDVI results\n",
    "ndvi_class_bins = [-np.inf, 0, 0.1, 0.25, 0.4, np.inf]\n",
    "ndvi_landsat_class = np.digitize(ndvi, ndvi_class_bins)\n",
    "\n",
    "# Apply the nodata mask to the newly classified NDVI data\n",
    "ndvi_landsat_class = np.ma.masked_where(np.ma.getmask(ndvi), ndvi_landsat_class)\n",
    "np.unique(ndvi_landsat_class)"
   ]
  },
  {
   "cell_type": "markdown",
   "metadata": {},
   "source": [
    "Plot Classified NDVI With Categorical Legend - EarthPy Draw_Legend()\n",
    "--------------------------------------------------------------------\n",
    "\n",
    "You can plot the classified NDVI with a categorical legend using the\n",
    "``draw_legend()`` function from the ``earthpy.plot`` module.\n",
    "\n"
   ]
  },
  {
   "cell_type": "code",
   "execution_count": null,
   "metadata": {},
   "outputs": [],
   "source": [
    "# Define color map\n",
    "nbr_colors = [\"gray\", \"y\", \"yellowgreen\", \"g\", \"darkgreen\"]\n",
    "nbr_cmap = ListedColormap(nbr_colors)\n",
    "\n",
    "# Define class names\n",
    "ndvi_cat_names = [\n",
    "    \"No Vegetation\",\n",
    "    \"Bare Area\",\n",
    "    \"Low Vegetation\",\n",
    "    \"Moderate Vegetation\",\n",
    "    \"High Vegetation\",\n",
    "]\n",
    "\n",
    "# Get list of classes\n",
    "classes = np.unique(ndvi_landsat_class)\n",
    "classes = classes.tolist()\n",
    "# The mask returns a value of none in the classes. remove that\n",
    "classes = classes[0:5]\n",
    "\n",
    "# Plot your data\n",
    "fig, ax = plt.subplots(figsize=(12, 12))\n",
    "im = ax.imshow(ndvi_landsat_class, cmap=nbr_cmap)\n",
    "\n",
    "ep.draw_legend(im_ax=im, classes=classes, titles=ndvi_cat_names)\n",
    "ax.set_title(\n",
    "    \"Landsat 8 - Normalized Difference Vegetation Index (NDVI) Classes\",\n",
    "    fontsize=14,\n",
    ")\n",
    "ax.set_axis_off()\n",
    "\n",
    "# Auto adjust subplot to fit figure size\n",
    "plt.tight_layout()"
   ]
  }
 ],
 "metadata": {
  "kernelspec": {
   "display_name": "Python 3",
   "language": "python",
   "name": "python3"
  },
  "language_info": {
   "codemirror_mode": {
    "name": "ipython",
    "version": 3
   },
   "file_extension": ".py",
   "mimetype": "text/x-python",
   "name": "python",
   "nbconvert_exporter": "python",
   "pygments_lexer": "ipython3",
   "version": "3.6.8"
  }
 },
 "nbformat": 4,
 "nbformat_minor": 1
}
